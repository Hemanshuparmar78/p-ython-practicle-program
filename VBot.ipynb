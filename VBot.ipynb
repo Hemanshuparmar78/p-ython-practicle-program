{
 "cells": [
  {
   "cell_type": "code",
   "execution_count": 1,
   "metadata": {
    "executionInfo": {
     "elapsed": 7482,
     "status": "ok",
     "timestamp": 1727753155538,
     "user": {
      "displayName": "Dipak Borkhatariya",
      "userId": "12520200307363599783"
     },
     "user_tz": -330
    },
    "id": "ekjqhHYVetco"
   },
   "outputs": [],
   "source": [
    "#importing natural language toolkit python libray\n",
    "\n",
    "from nltk.chat.util import Chat, reflections"
   ]
  },
  {
   "cell_type": "code",
   "execution_count": 2,
   "metadata": {
    "executionInfo": {
     "elapsed": 1132,
     "status": "ok",
     "timestamp": 1727753167528,
     "user": {
      "displayName": "Dipak Borkhatariya",
      "userId": "12520200307363599783"
     },
     "user_tz": -330
    },
    "id": "5m7kC-XWetct"
   },
   "outputs": [],
   "source": [
    "# A dictionary contaning input and output values.\n",
    "\n",
    "reflections = {\n",
    "  \"i am\"       : \"you are\",\n",
    "  \"i was\"      : \"you were\",\n",
    "  \"i\"          : \"you\",\n",
    "  \"i'm\"        : \"you are\",\n",
    "  \"i'd\"        : \"you would\",\n",
    "  \"i've\"       : \"you have\",\n",
    "  \"i'll\"       : \"you will\",\n",
    "  \"your\"       : \"my\",\n",
    "  \"yours\"      : \"mine\",\n",
    "  \"you\"        : \"me\",\n",
    "  \"me\"         : \"you\",\n",
    "  \"my\"         : \"your\",\n",
    "  \"you are\"    : \"I am\",\n",
    "  \"you were\"   : \"I was\",\n",
    "  \"you've\"     : \"I have\",\n",
    "  \"you'll\"     : \"I will\",\n",
    "\n",
    "}"
   ]
  },
  {
   "cell_type": "code",
   "execution_count": 3,
   "metadata": {
    "colab": {
     "base_uri": "https://localhost:8080/"
    },
    "executionInfo": {
     "elapsed": 15,
     "status": "ok",
     "timestamp": 1698818692101,
     "user": {
      "displayName": "Hiren Rajodiya",
      "userId": "11064758021820175274"
     },
     "user_tz": -330
    },
    "id": "jqbbZ55-etcu",
    "outputId": "7dd371ed-5d10-4753-971a-a9a1d5cd145d"
   },
   "outputs": [
    {
     "name": "stdout",
     "output_type": "stream",
     "text": [
      "you are\n",
      "you would\n"
     ]
    }
   ],
   "source": [
    "#you can print the values by key.\n",
    "\n",
    "print(reflections[\"i am\"])\n",
    "print(reflections[\"i'd\"])"
   ]
  },
  {
   "cell_type": "code",
   "execution_count": 4,
   "metadata": {
    "id": "Qo4k9zkFetcw"
   },
   "outputs": [],
   "source": [
    "# chat_Pairs is a list contaning sublists.\n",
    "# Each sublist has a input and output response\n",
    "#Here is just 5 pairs. You can add as many as you can.\n",
    "\n",
    "chat_pairs = [\n",
    "\n",
    "     [\n",
    "        r\"hi|hey|hello\",\n",
    "        [\"Hello\", \"Hey there\",]\n",
    "    ],\n",
    "\n",
    "     [\n",
    "        r\"what is your name ?\",\n",
    "        [\"My name is VBot and I'm a chatbot \",]\n",
    "    ],\n",
    "\n",
    "    [\n",
    "        r\"how are you ?\",\n",
    "        [\"I'm doing good\\nThanks for asking. \",]\n",
    "    ],\n",
    "\n",
    "    [\n",
    "        r\"What is your age?\",\n",
    "        [\"I'm a computer program dude\\nSeriously you are asking me this\",]\n",
    "\n",
    "    ],\n",
    "\n",
    "    [\n",
    "        r\"quit\",\n",
    "        [\"BBye take care. See you soon :) \",\"It was nice talking to you. See you soon :)\"]\n",
    "],\n",
    "]\n"
   ]
  },
  {
   "cell_type": "code",
   "execution_count": 5,
   "metadata": {
    "id": "4Q7ZEBaeetcx",
    "outputId": "7db986a1-8c84-4c8d-c572-b10ee53f7d4d"
   },
   "outputs": [
    {
     "name": "stdout",
     "output_type": "stream",
     "text": [
      "['hi|hey|hello', ['Hello', 'Hey there']]\n",
      "['what is your name ?', [\"My name is VBot and I'm a chatbot \"]]\n"
     ]
    }
   ],
   "source": [
    "#you can print by index number\n",
    "\n",
    "print(chat_pairs[0])\n",
    "print(chat_pairs[1])"
   ]
  },
  {
   "cell_type": "code",
   "execution_count": 6,
   "metadata": {
    "id": "TW6xtUQFetcx",
    "outputId": "3727c338-736f-4fb6-94d1-4ddd91b2c936"
   },
   "outputs": [
    {
     "name": "stdout",
     "output_type": "stream",
     "text": [
      "Hi, I'm VBot and I chat alot ;)\n",
      "Please type lowercase English language to start a conversation.\n",
      "Type quit to leave \n"
     ]
    },
    {
     "name": "stdin",
     "output_type": "stream",
     "text": [
      "> hii\n"
     ]
    },
    {
     "name": "stdout",
     "output_type": "stream",
     "text": [
      "Hello\n"
     ]
    },
    {
     "name": "stdin",
     "output_type": "stream",
     "text": [
      "> how are you\n"
     ]
    },
    {
     "name": "stdout",
     "output_type": "stream",
     "text": [
      "I'm doing good\n",
      "Thanks for asking. \n"
     ]
    },
    {
     "name": "stdin",
     "output_type": "stream",
     "text": [
      "> whats your name\n"
     ]
    },
    {
     "name": "stdout",
     "output_type": "stream",
     "text": [
      "None\n"
     ]
    },
    {
     "name": "stdin",
     "output_type": "stream",
     "text": [
      "> what is your name \n"
     ]
    },
    {
     "name": "stdout",
     "output_type": "stream",
     "text": [
      "My name is VBot and I'm a chatbot \n"
     ]
    },
    {
     "name": "stdin",
     "output_type": "stream",
     "text": [
      "> quit\n"
     ]
    },
    {
     "name": "stdout",
     "output_type": "stream",
     "text": [
      "BBye take care. See you soon :) \n"
     ]
    }
   ],
   "source": [
    "#define a function vbot\n",
    "\n",
    "def vbot():\n",
    "\n",
    "        #default message at the start\n",
    "    print('''Hi, I'm VBot and I chat alot ;)\n",
    "Please type lowercase English language to start a conversation.\n",
    "Type quit to leave ''')\n",
    "\n",
    "    chat = Chat(chat_pairs, reflections)\n",
    "    chat.converse()\n",
    "\n",
    "vbot()"
   ]
  },
  {
   "cell_type": "markdown",
   "metadata": {
    "id": "sPPhPYPJetcy"
   },
   "source": [
    "# Creating Inteligent Chatbot using Regualr Expressioins"
   ]
  },
  {
   "cell_type": "code",
   "execution_count": 7,
   "metadata": {
    "id": "N3l47vLnetc0"
   },
   "outputs": [
    {
     "name": "stderr",
     "output_type": "stream",
     "text": [
      "<>:15: SyntaxWarning: invalid escape sequence '\\W'\n",
      "<>:15: SyntaxWarning: invalid escape sequence '\\W'\n",
      "C:\\Users\\himanshu\\AppData\\Local\\Temp\\ipykernel_2968\\3571993232.py:15: SyntaxWarning: invalid escape sequence '\\W'\n",
      "  [\"I'm doing good\\What is your name. ?\",]\n"
     ]
    }
   ],
   "source": [
    "chat_pairs = [\n",
    "\n",
    "     [\n",
    "        r\"hi|hey|hello\",\n",
    "        [\"Hello\", \"Hey there\",]\n",
    "    ],\n",
    "\n",
    "     [\n",
    "        r\"what is your name ?\",\n",
    "        [\"My name is VBot and I'm a chatbot ?\",]\n",
    "    ],\n",
    "\n",
    "    [\n",
    "        r\"how are you ?\",\n",
    "        [\"I'm doing good\\What is your name. ?\",]\n",
    "    ],\n",
    "\n",
    "     [\n",
    "        r\"my name is (.*)(.*)\",\n",
    "        [\"Hello %1, How are you today ?\",]\n",
    "    ],\n",
    "\n",
    "   [\n",
    "        r\"sorry (.*)\",\n",
    "        [\"Its alright\",\"Its OK, never mind\",]\n",
    "    ],\n",
    "    [\n",
    "        r\"(.*) (good|great|fine)\",\n",
    "        [\"Nice to hear!\",]\n",
    "    ],\n",
    "\n",
    "    [\n",
    "        r\"i'm (.*) doing good\",\n",
    "        [\"Nice to hear that\",\"Alright :)\",]\n",
    "    ],\n",
    "\n",
    "    [\n",
    "        r\"What is your age?\",\n",
    "        [\"I'm a computer program dude\\nSeriously you are asking me this?\",]\n",
    "\n",
    "    ],\n",
    "\n",
    "     [\n",
    "        r\"what (.*) want ?\",\n",
    "        [\"Make me an offer I can't refuse\",]\n",
    "\n",
    "    ],\n",
    "\n",
    "    [\n",
    "        r\"(.*) created ?\",\n",
    "        [\"Haseeb created me using Python's NLTK library \",\"top secret ;)\",]\n",
    "    ],\n",
    "\n",
    "    [\n",
    "        r\"(.*) (location|city) ?\",\n",
    "        ['Islamabad, Pakistan',]\n",
    "    ],\n",
    "    [\n",
    "        r\"how is weather in (.*)?\",\n",
    "        [\"Weather in %1 is awesome like always\",\"Too hot man here in %1\",\"Too cold man here in %1\",\"Never even heard about %1\"]\n",
    "    ],\n",
    "    [\n",
    "        r\"i work in (.*)?\",\n",
    "        [\"%1 is an Amazing company, I have heard about it.\",]\n",
    "    ],\n",
    "    [\n",
    "        r\"(.*)raining in (.*)\",\n",
    "        [\"No rain since last week here in %2\",\"Damn its raining too much here in %2\"]\n",
    "    ],\n",
    "    [\n",
    "        r\"how (.*) health(.*)\",\n",
    "        [\"I'm a computer program, so I'm always healthy \",]\n",
    "    ],\n",
    "    [\n",
    "        r\"(.*) (cooking|cook|kitchen)\",\n",
    "        [\"IYes! I love cooking. My favorite food is noodles.\",]\n",
    "    ],\n",
    "    [\n",
    "        r\"(.*) fact\",\n",
    "        [\"Be yourself; everyone else is already taken.\",\n",
    "        \"You've gotta dance like there's nobody watching\",\n",
    "        \"Be the change that you wish to see in the world\",\n",
    "        \"No one can make you feel inferior without your consent\",\n",
    "        \"Live as if you were to die tomorrow\",\n",
    "        \"Darkness cannot drive out darkness: only light can do that\",]\n",
    "    ],\n",
    "    [\n",
    "        r\"(.*) (language) (.*) ?\",\n",
    "        [\"I am written in python but I speak English.\",]\n",
    "    ],\n",
    "     [\n",
    "        r\"(.*) (friend|best friend) ?\",\n",
    "        [\"Haseeb is my best friend. I love to be a part of Vision Programmer\",]\n",
    "    ],\n",
    "    [\n",
    "        r\"(.*) (love|like) (.*)?\",\n",
    "        [\"I love to chat and meet new peoples.\",]\n",
    "    ],\n",
    "    [\n",
    "        r\"(.*) (created) ?\",\n",
    "        [\"Haseeb created me so that I can talk with beautiful peoples like you\",]\n",
    "    ],\n",
    "    [\n",
    "        r\"(.*) (visionprogrammer|vision programmer) ?\",\n",
    "        [\"Well Vision Programmer is a blogging site. It contains blog on Programming, Freelancing, Android and many other.\",]\n",
    "    ],\n",
    "     [\n",
    "        r\"(.*) (fruit|eat|food) ?\",\n",
    "        [\"HaHa nice question. I am a robot I don't eat.\",]\n",
    "    ],\n",
    "    [\n",
    "        r\"quit\",\n",
    "        [\"Bye take care. See you soon :) \",\"It was nice talking to you. See you soon :)\"]\n",
    "],\n",
    "]\n"
   ]
  },
  {
   "cell_type": "code",
   "execution_count": 8,
   "metadata": {
    "colab": {
     "base_uri": "https://localhost:8080/",
     "height": 384
    },
    "executionInfo": {
     "elapsed": 9,
     "status": "error",
     "timestamp": 1698818722548,
     "user": {
      "displayName": "Hiren Rajodiya",
      "userId": "11064758021820175274"
     },
     "user_tz": -330
    },
    "id": "wjNoNOlEetc2",
    "outputId": "d7b5bbcc-3fa5-4ab2-d075-e81cfea7b760"
   },
   "outputs": [
    {
     "name": "stdout",
     "output_type": "stream",
     "text": [
      "Hi, I'm VBot and I chat a lot ;)\n",
      "    Please type lowercase English language to start a conversation.\n",
      "    Type quit to leave.\n"
     ]
    },
    {
     "name": "stdin",
     "output_type": "stream",
     "text": [
      "> hello\n"
     ]
    },
    {
     "name": "stdout",
     "output_type": "stream",
     "text": [
      "Hi there!\n"
     ]
    },
    {
     "name": "stdin",
     "output_type": "stream",
     "text": [
      "> quit\n"
     ]
    },
    {
     "name": "stdout",
     "output_type": "stream",
     "text": [
      "Goodbye! Have a nice day!\n"
     ]
    }
   ],
   "source": [
    "from nltk.chat.util import Chat, reflections\n",
    "\n",
    "# Define chat pairs (an example of basic pairs)\n",
    "chat_pairs = [\n",
    "    [\n",
    "        r\"hi|hello\",\n",
    "        [\"Hello, how can I assist you today?\", \"Hi there!\", \"Greetings!\"]\n",
    "    ],\n",
    "    [\n",
    "        r\"quit\",\n",
    "        [\"Goodbye! Have a nice day!\"]\n",
    "    ]\n",
    "]\n",
    "\n",
    "# Define the chatbot function\n",
    "def vbot():\n",
    "    print('''Hi, I'm VBot and I chat a lot ;)\n",
    "    Please type lowercase English language to start a conversation.\n",
    "    Type quit to leave.''')\n",
    "\n",
    "    # Initialize the chatbot\n",
    "    chat = Chat(chat_pairs, reflections)\n",
    "    chat.converse()\n",
    "\n",
    "# Call the chatbot\n",
    "vbot()"
   ]
  },
  {
   "cell_type": "markdown",
   "metadata": {
    "id": "kh-6faQ3etc2"
   },
   "source": [
    "# Final VBot Code"
   ]
  },
  {
   "cell_type": "raw",
   "metadata": {},
   "source": []
  },
  {
   "cell_type": "code",
   "execution_count": 9,
   "metadata": {
    "colab": {
     "background_save": true,
     "base_uri": "https://localhost:8080/"
    },
    "id": "GtufBucretc3",
    "outputId": "ef48f428-d569-47e4-dc93-04f320580ef4"
   },
   "outputs": [
    {
     "name": "stderr",
     "output_type": "stream",
     "text": [
      "<>:40: SyntaxWarning: invalid escape sequence '\\W'\n",
      "<>:40: SyntaxWarning: invalid escape sequence '\\W'\n",
      "C:\\Users\\himanshu\\AppData\\Local\\Temp\\ipykernel_2968\\1511498559.py:40: SyntaxWarning: invalid escape sequence '\\W'\n",
      "  [\"I'm doing good\\What is your name. ?\",]\n"
     ]
    },
    {
     "name": "stdout",
     "output_type": "stream",
     "text": [
      "Hi, I'm VBot and I chat alot ;)\n",
      "Please type lowercase English language to start a conversation.\n",
      "Type quit to leave \n"
     ]
    },
    {
     "name": "stdin",
     "output_type": "stream",
     "text": [
      "> hii\n"
     ]
    },
    {
     "name": "stdout",
     "output_type": "stream",
     "text": [
      "Hello\n"
     ]
    },
    {
     "name": "stdin",
     "output_type": "stream",
     "text": [
      "> how are you\n"
     ]
    },
    {
     "name": "stdout",
     "output_type": "stream",
     "text": [
      "I'm doing good\\What is your name. ?\n"
     ]
    },
    {
     "name": "stdin",
     "output_type": "stream",
     "text": [
      "> what is your name\n"
     ]
    },
    {
     "name": "stdout",
     "output_type": "stream",
     "text": [
      "My name is VBot and I'm a chatbot ?\n"
     ]
    },
    {
     "name": "stdin",
     "output_type": "stream",
     "text": [
      "> what is your age\n"
     ]
    },
    {
     "name": "stdout",
     "output_type": "stream",
     "text": [
      "I'm a computer program dude\n",
      "Seriously you are asking me this?\n"
     ]
    },
    {
     "name": "stdin",
     "output_type": "stream",
     "text": [
      "> how weather in rajkot\n"
     ]
    },
    {
     "name": "stdout",
     "output_type": "stream",
     "text": [
      "None\n"
     ]
    },
    {
     "name": "stdin",
     "output_type": "stream",
     "text": [
      "> how is weather in rajkot\n"
     ]
    },
    {
     "name": "stdout",
     "output_type": "stream",
     "text": [
      "Too cold man here in rajkot\n"
     ]
    },
    {
     "name": "stdin",
     "output_type": "stream",
     "text": [
      "> my name is hemanshu\n"
     ]
    },
    {
     "name": "stdout",
     "output_type": "stream",
     "text": [
      "Hello hemanshu, How are you today ?\n"
     ]
    },
    {
     "name": "stdin",
     "output_type": "stream",
     "text": [
      "> quit\n"
     ]
    },
    {
     "name": "stdout",
     "output_type": "stream",
     "text": [
      "It was nice talking to you. See you soon :)\n"
     ]
    }
   ],
   "source": [
    "#importing natural language toolkit python libray\n",
    "\n",
    "from nltk.chat.util import Chat, reflections\n",
    "\n",
    "# A dictionary contaning input and output values.\n",
    "\n",
    "reflections = {\n",
    "  \"i am\"       : \"you are\",\n",
    "  \"i was\"      : \"you were\",\n",
    "  \"i\"          : \"you\",\n",
    "  \"i'm\"        : \"you are\",\n",
    "  \"i'd\"        : \"you would\",\n",
    "  \"i've\"       : \"you have\",\n",
    "  \"i'll\"       : \"you will\",\n",
    "  \"my\"         : \"your\",\n",
    "  \"you are\"    : \"I am\",\n",
    "  \"you were\"   : \"I was\",\n",
    "  \"you've\"     : \"I have\",\n",
    "  \"you'll\"     : \"I will\",\n",
    "  \"your\"       : \"my\",\n",
    "  \"yours\"      : \"mine\",\n",
    "  \"you\"        : \"me\",\n",
    "  \"me\"         : \"you\"\n",
    "}\n",
    "\n",
    "chat_pairs = [\n",
    "\n",
    "     [\n",
    "        r\"hi|hey|hello\",\n",
    "        [\"Hello\", \"Hey there\",]\n",
    "    ],\n",
    "\n",
    "     [\n",
    "        r\"what is your name ?\",\n",
    "        [\"My name is VBot and I'm a chatbot ?\",]\n",
    "    ],\n",
    "\n",
    "    [\n",
    "        r\"how are you ?\",\n",
    "        [\"I'm doing good\\What is your name. ?\",]\n",
    "    ],\n",
    "\n",
    "     [\n",
    "        r\"my name is (.*)(.*)\",\n",
    "        [\"Hello %1, How are you today ?\",]\n",
    "    ],\n",
    "\n",
    "   [\n",
    "        r\"sorry (.*)\",\n",
    "        [\"Its alright\",\"Its OK, never mind\",]\n",
    "    ],\n",
    "    [\n",
    "        r\"(.*) (good|great|fine)\",\n",
    "        [\"Nice to hear!\",]\n",
    "    ],\n",
    "\n",
    "    [\n",
    "        r\"i'm (.*) doing good\",\n",
    "        [\"Nice to hear that\",\"Alright :)\",]\n",
    "    ],\n",
    "\n",
    "    [\n",
    "        r\"What is your age?\",\n",
    "        [\"I'm a computer program dude\\nSeriously you are asking me this?\",]\n",
    "\n",
    "    ],\n",
    "\n",
    "     [\n",
    "        r\"what (.*) want ?\",\n",
    "        [\"Make me an offer I can't refuse\",]\n",
    "\n",
    "    ],\n",
    "\n",
    "    [\n",
    "        r\"(.*) created ?\",\n",
    "        [\"you hocreated me using Python's NLTK library \",\"top secret ;)\",]\n",
    "    ],\n",
    "\n",
    "    [\n",
    "        r\"(.*) (location|city) ?\",\n",
    "        ['usa, india',]\n",
    "    ],\n",
    "    [\n",
    "        r\"how is weather in (.*)?\",\n",
    "        [\"Weather in %1 is awesome like always\",\"Too hot man here in %1\",\"Too cold man here in %1\",\"Never even heard about %1\"]\n",
    "    ],\n",
    "    [\n",
    "        r\"i work in (.*)?\",\n",
    "        [\"%1 is an Amazing company, I have heard about it.\",]\n",
    "    ],\n",
    "    [\n",
    "        r\"(.*)raining in (.*)\",\n",
    "        [\"No rain since last week here in %2\",\"Damn its raining too much here in %2\"]\n",
    "    ],\n",
    "    [\n",
    "        r\"how (.*) health(.*)\",\n",
    "        [\"I'm a computer program, so I'm always healthy \",]\n",
    "    ],\n",
    "    [\n",
    "        r\"(.*) (cooking|cook|kitchen)\",\n",
    "        [\"IYes! I love cooking. My favorite food is noodles.\",]\n",
    "    ],\n",
    "    [\n",
    "        r\"(.*) fact\",\n",
    "        [\"Be yourself; everyone else is already taken.\",\n",
    "        \"You've gotta dance like there's nobody watching\",\n",
    "        \"Be the change that you wish to see in the world\",\n",
    "        \"No one can make you feel inferior without your consent\",\n",
    "        \"Live as if you were to die tomorrow\",\n",
    "        \"Darkness cannot drive out darkness: only light can do that\",]\n",
    "    ],\n",
    "    [\n",
    "        r\"(.*) (language) (.*) ?\",\n",
    "        [\"I am written in python but I speak English.\",]\n",
    "    ],\n",
    "     [\n",
    "        r\"(.*) (friend|best friend) ?\",\n",
    "        [\"your is my best friend. I love to be a part of Vision Programmer\",]\n",
    "    ],\n",
    "    [\n",
    "        r\"(.*) (love|like) (.*)?\",\n",
    "        [\"I love to chat and meet new peoples.\",]\n",
    "    ],\n",
    "    [\n",
    "        r\"(.*) (created) ?\",\n",
    "        [\"Haseeb created me so that I can talk with beautiful peoples like you\",]\n",
    "    ],\n",
    "    [\n",
    "        r\"(.*) (visionprogrammer|vision programmer) ?\",\n",
    "        [\"Well Vision Programmer is a blogging site. It contains blog on Programming, Freelancing, Android and many other.\",]\n",
    "    ],\n",
    "     [\n",
    "        r\"(.*) (fruit|eat|food) ?\",\n",
    "        [\"HaHa nice question. I am a robot I don't eat.\",]\n",
    "    ],\n",
    "    [\n",
    "        r\"quit\",\n",
    "        [\"Bye take care. See you soon :) \",\"It was nice talking to you. See you soon :)\"]\n",
    "],\n",
    "]\n",
    "\n",
    "#define a function vbot\n",
    "\n",
    "def vbot():\n",
    "\n",
    "        #default message at the start\n",
    "    print('''Hi, I'm VBot and I chat alot ;)\n",
    "Please type lowercase English language to start a conversation.\n",
    "Type quit to leave ''')\n",
    "\n",
    "    chat = Chat(chat_pairs, reflections)\n",
    "    chat.converse()\n",
    "\n",
    "vbot()"
   ]
  },
  {
   "cell_type": "code",
   "execution_count": null,
   "metadata": {},
   "outputs": [],
   "source": []
  },
  {
   "cell_type": "code",
   "execution_count": null,
   "metadata": {},
   "outputs": [],
   "source": []
  }
 ],
 "metadata": {
  "colab": {
   "provenance": []
  },
  "kernelspec": {
   "display_name": "Python 3 (ipykernel)",
   "language": "python",
   "name": "python3"
  },
  "language_info": {
   "codemirror_mode": {
    "name": "ipython",
    "version": 3
   },
   "file_extension": ".py",
   "mimetype": "text/x-python",
   "name": "python",
   "nbconvert_exporter": "python",
   "pygments_lexer": "ipython3",
   "version": "3.12.3"
  }
 },
 "nbformat": 4,
 "nbformat_minor": 4
}
